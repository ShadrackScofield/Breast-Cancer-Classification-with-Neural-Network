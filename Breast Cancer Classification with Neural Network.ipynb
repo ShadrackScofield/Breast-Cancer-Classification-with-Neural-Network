{
 "cells": [
  {
   "cell_type": "markdown",
   "metadata": {},
   "source": [
    "## Breast Cancer Classification with a simple neural network"
   ]
  },
  {
   "cell_type": "markdown",
   "metadata": {},
   "source": [
    "#### Import data analysis dependencies"
   ]
  },
  {
   "cell_type": "code",
   "execution_count": null,
   "metadata": {},
   "outputs": [],
   "source": [
    "import pandas as pd\n",
    "import numpy as np\n",
    "import matplotlib.pyplot as plt"
   ]
  },
  {
   "cell_type": "markdown",
   "metadata": {},
   "source": [
    "#### Import the data spliting module"
   ]
  },
  {
   "cell_type": "code",
   "execution_count": null,
   "metadata": {},
   "outputs": [],
   "source": [
    "from sklearn.model_selection import train_test_split"
   ]
  },
  {
   "cell_type": "markdown",
   "metadata": {},
   "source": [
    "#### Import deep learning dependencies"
   ]
  },
  {
   "cell_type": "code",
   "execution_count": null,
   "metadata": {},
   "outputs": [],
   "source": [
    "import tensorflow as tf\n",
    "tf.random.set_seed(3)\n",
    "from tensorflow import keras"
   ]
  },
  {
   "cell_type": "markdown",
   "metadata": {},
   "source": [
    "#### Import a data scaling technique"
   ]
  },
  {
   "cell_type": "code",
   "execution_count": null,
   "metadata": {},
   "outputs": [],
   "source": [
    "from sklearn.preprocessing import StandardaScaler"
   ]
  },
  {
   "cell_type": "markdown",
   "metadata": {},
   "source": [
    "#### Set pandas to display columns at maximum"
   ]
  },
  {
   "cell_type": "code",
   "execution_count": null,
   "metadata": {},
   "outputs": [],
   "source": [
    "pd.set_option('display.max_columns', None)"
   ]
  },
  {
   "cell_type": "markdown",
   "metadata": {},
   "source": [
    "#### Loading the dataset"
   ]
  },
  {
   "cell_type": "code",
   "execution_count": null,
   "metadata": {},
   "outputs": [],
   "source": [
    "breast_cancer_data =pd.read_csv(r'C:\\Users\\Scofield\\MACHINE LEARNING PROJECTS\\DEEP LEARNING\\Breast Cancer Classification with Neural Network\\breast_cancer_data.csv')"
   ]
  },
  {
   "cell_type": "markdown",
   "metadata": {},
   "source": [
    "#### Display the first 5 rows"
   ]
  },
  {
   "cell_type": "code",
   "execution_count": null,
   "metadata": {},
   "outputs": [],
   "source": [
    "breast_cancer_data.head(5)"
   ]
  },
  {
   "cell_type": "markdown",
   "metadata": {},
   "source": [
    "#### Get the shape of the dataset"
   ]
  },
  {
   "cell_type": "code",
   "execution_count": null,
   "metadata": {},
   "outputs": [],
   "source": [
    "breast_cancer_data.shape"
   ]
  },
  {
   "cell_type": "markdown",
   "metadata": {},
   "source": [
    "#### Display the basic statistics of the dataset"
   ]
  },
  {
   "cell_type": "code",
   "execution_count": null,
   "metadata": {},
   "outputs": [],
   "source": [
    "breast_cancer_data.describe()"
   ]
  },
  {
   "cell_type": "markdown",
   "metadata": {},
   "source": [
    "#### Check whether there are null values in the dataset"
   ]
  },
  {
   "cell_type": "code",
   "execution_count": null,
   "metadata": {},
   "outputs": [],
   "source": [
    "breast_cancer_data.isnull().sum()"
   ]
  },
  {
   "cell_type": "markdown",
   "metadata": {},
   "source": [
    "#### Display the distribution of the target variable"
   ]
  },
  {
   "cell_type": "code",
   "execution_count": null,
   "metadata": {},
   "outputs": [],
   "source": [
    "breast_cancer_data['HAS_CANCER'].value_counts()"
   ]
  },
  {
   "cell_type": "markdown",
   "metadata": {},
   "source": [
    "####  0 -> Malignant\n",
    "####  1 -> Benign"
   ]
  },
  {
   "cell_type": "markdown",
   "metadata": {},
   "source": [
    "#### Display the basic statictics of the target variable"
   ]
  },
  {
   "cell_type": "code",
   "execution_count": null,
   "metadata": {},
   "outputs": [],
   "source": [
    "breast_cancer_data.groupby('HAS_CANCER').mean().T"
   ]
  },
  {
   "cell_type": "markdown",
   "metadata": {},
   "source": [
    "#### We have already selected important features in the dataframe in a previous project"
   ]
  },
  {
   "cell_type": "code",
   "execution_count": null,
   "metadata": {},
   "outputs": [],
   "source": [
    "selected_breast_cancer_data =pd.read_csv(r'C:\\Users\\Scofield\\MACHINE LEARNING PROJECTS\\DEEP LEARNING\\Breast Cancer Classification with Neural Network\\breast_cancer_selected_data.csv')"
   ]
  },
  {
   "cell_type": "code",
   "execution_count": null,
   "metadata": {},
   "outputs": [],
   "source": [
    "selected_breast_cancer_data"
   ]
  },
  {
   "cell_type": "markdown",
   "metadata": {},
   "source": [
    "#### Split the data into independent and target variables"
   ]
  },
  {
   "cell_type": "code",
   "execution_count": null,
   "metadata": {},
   "outputs": [],
   "source": [
    "X = selected_breast_cancer_data.drop(columns = ['HAS_CANCER'] , axis = 1)\n",
    "Y = selected_breast_cancer_data['HAS_CANCER'] # Target Variable"
   ]
  },
  {
   "cell_type": "code",
   "execution_count": null,
   "metadata": {},
   "outputs": [],
   "source": [
    "X"
   ]
  },
  {
   "cell_type": "code",
   "execution_count": null,
   "metadata": {
    "scrolled": true
   },
   "outputs": [],
   "source": [
    "Y"
   ]
  },
  {
   "cell_type": "markdown",
   "metadata": {},
   "source": [
    "#### Split the dataset into training and testing chunks"
   ]
  },
  {
   "cell_type": "code",
   "execution_count": null,
   "metadata": {},
   "outputs": [],
   "source": [
    "X_train, X_test, Y_train, Y_test = train_test_split(X, Y, test_size = 0.2, random_state = 5, stratify = Y)"
   ]
  },
  {
   "cell_type": "code",
   "execution_count": null,
   "metadata": {},
   "outputs": [],
   "source": [
    "print(X_train.shape, X_test.shape, Y_train.shape, Y_test.shape)"
   ]
  },
  {
   "cell_type": "markdown",
   "metadata": {},
   "source": [
    "#### We need to standardize the data before feeding it to the neural network"
   ]
  },
  {
   "cell_type": "code",
   "execution_count": null,
   "metadata": {},
   "outputs": [],
   "source": [
    "scaler = StandardScaler()\n",
    "\n",
    "X_train_std = scaler.fit_transform(X_train)\n",
    "\n",
    "X_test_std = scaler.transform(X_test)"
   ]
  },
  {
   "cell_type": "markdown",
   "metadata": {},
   "source": [
    "### Building a neural network"
   ]
  },
  {
   "attachments": {
    "Building_a_neural_network.PNG": {
     "image/png": "[encoded data removed]"
    }
   },
   "cell_type": "markdown",
   "metadata": {},
   "source": [
    "![Building_a_neural_network.PNG](attachment:Building_a_neural_network.PNG)"
   ]
  },
  {
   "cell_type": "markdown",
   "metadata": {},
   "source": [
    "#### Setting up the layers of the neural network\n",
    "\n",
    "##### Here, we will set up the following:\n",
    "##### 1. An input layer with 16 neurons\n",
    "##### 2. 7 hidden layers with different number of neurons\n",
    "##### 3. An output layer with 2 neurons\n",
    "\n",
    "####  The hidden layers will use the ReLU activation function\n",
    "####  The output layer will use the sigmoid activation function"
   ]
  },
  {
   "cell_type": "code",
   "execution_count": null,
   "metadata": {},
   "outputs": [],
   "source": [
    "model = keras.Sequential([\n",
    "    keras.layers.Flatten(input_shape=(30,)),\n",
    "    keras.layers.Dense(25,activation ='relu'),\n",
    "    keras.layers.Dense(20, activation ='relu')\n",
    "    keras.layers.Dense(18, activation ='relu')\n",
    "    keras.layers.Dense(15, activation ='relu')\n",
    "    keras.layers.Dense(12, activation ='relu')\n",
    "    keras.layers.Dense(10, activation ='relu')\n",
    "    keras.layers.Dense(5, activation ='relu')\n",
    "    keras.layers.Dense(2, activation ='sigmoid')\n",
    "])30"
   ]
  },
  {
   "cell_type": "markdown",
   "metadata": {},
   "source": [
    "#### Compiling the neural network"
   ]
  },
  {
   "cell_type": "code",
   "execution_count": null,
   "metadata": {},
   "outputs": [],
   "source": [
    "model.compile (\n",
    "    \n",
    "    optimizer = 'adam',\n",
    "    loss = 'sparse_categorical_crossentropy',\n",
    "    metrics = ['accuracy']\n",
    "    \n",
    ")"
   ]
  },
  {
   "cell_type": "markdown",
   "metadata": {},
   "source": [
    "#### Training the neural network"
   ]
  },
  {
   "cell_type": "code",
   "execution_count": null,
   "metadata": {},
   "outputs": [],
   "source": [
    "history = model.fit(X_train_std, Y_train, validation_split = 0.1, epochs = 20)"
   ]
  },
  {
   "cell_type": "markdown",
   "metadata": {},
   "source": [
    "#### Visualizing the Accuracy along the epochs"
   ]
  },
  {
   "cell_type": "code",
   "execution_count": null,
   "metadata": {},
   "outputs": [],
   "source": [
    "plt.plot(history.history['accuracy'])\n",
    "plt.plot(history.history['val_accuracy'])\n",
    "\n",
    "plt.title('Model Accuracy')\n",
    "plt.ylabel('Accuracy')\n",
    "plt.xlabel('Epochs')\n",
    "plt.legend(['Training data', 'Validation data'], loc = 'lower right')"
   ]
  },
  {
   "cell_type": "code",
   "execution_count": null,
   "metadata": {},
   "outputs": [],
   "source": [
    "#### Visualizing the Loss along the epochs"
   ]
  },
  {
   "cell_type": "code",
   "execution_count": null,
   "metadata": {},
   "outputs": [],
   "source": [
    "plt.plot(history.history['loss'])\n",
    "plt.plot(history.history['val_loss'])\n",
    "\n",
    "plt.title('Model Loss')\n",
    "plt.ylabel('loss')\n",
    "plt.xlabel('epoch')\n",
    "plt.legend(['Training data', 'Validation data'], loc = 'upper right')"
   ]
  },
  {
   "cell_type": "code",
   "execution_count": null,
   "metadata": {},
   "outputs": [],
   "source": [
    "loss , accuracy = model.evaluate(X_test_std, Y_test)\n",
    "\n",
    "print(accuracy)"
   ]
  },
  {
   "cell_type": "code",
   "execution_count": null,
   "metadata": {},
   "outputs": [],
   "source": [
    "Y_pred = model.predict(X_test_std)"
   ]
  },
  {
   "cell_type": "code",
   "execution_count": null,
   "metadata": {},
   "outputs": [],
   "source": [
    "print(Y_pred.shape)"
   ]
  },
  {
   "cell_type": "code",
   "execution_count": null,
   "metadata": {},
   "outputs": [],
   "source": [
    "print(Y_pred[0])"
   ]
  },
  {
   "cell_type": "markdown",
   "metadata": {},
   "source": [
    "#### Model.predict() gives  the prediction probability of each class for that datapoint"
   ]
  },
  {
   "cell_type": "markdown",
   "metadata": {},
   "source": [
    "#### Converting the prediction probability into class labels"
   ]
  },
  {
   "cell_type": "code",
   "execution_count": null,
   "metadata": {},
   "outputs": [],
   "source": [
    "Y_pred_labels = [np.argmax(i) for i in Y_pred]"
   ]
  },
  {
   "cell_type": "code",
   "execution_count": null,
   "metadata": {},
   "outputs": [],
   "source": [
    "print(Y_pred_labels)"
   ]
  },
  {
   "cell_type": "markdown",
   "metadata": {},
   "source": [
    "### Build a predictive system for the neural network"
   ]
  },
  {
   "cell_type": "code",
   "execution_count": null,
   "metadata": {},
   "outputs": [],
   "source": [
    "unseen_input_data = [\n",
    "    \n",
    "    [9.423,59.26,271.3,0.04971,0,0,0.5375,3.618,29.11,10.49,34.24,66.5,330.6,0.07158,0,0],\n",
    "    [14.59,96.39,657.1,0.133,0.1029,0.03736,0.2254,2.224,19.54,15.48,27.27,105.9,733.5,0.3171,0.3662,0.1105],\n",
    "    [11.51,74.52,403.5,0.1021,0.1112,0.04105,0.2388,1.936,16.97,12.48,37.16,82.28,474.2,0.2517,0.363,0.09653],\n",
    "    [14.05,91.38,600.4,0.1126,0.04462,0.04304,0.3645,2.888,29.84,15.3,33.17,100.2,706.7,0.2264,0.1326,0.1048],\n",
    "    [11.2,70.67,386,0.03558,0,0,0.3141,2.041,22.81,11.92,38.3,75.19,439.6,0.05494,0,0],\n",
    "    [15.22,103.4,716.9,0.2087,0.255,0.09429,0.2602,2.362,22.65,17.52,42.79,128.7,915,0.7917,1.17,0.2356],\n",
    "    [20.92,143,1347,0.2236,0.3174,0.1474,0.9622,8.758,118.8,24.29,29.41,179.1,1819,0.4186,0.6599,0.2542],\n",
    "    [21.56,142,1479,0.1159,0.2439,0.1389,1.176,7.673,158.7,25.45,26.4,166.1,2027,0.2113,0.4107,0.2216],\n",
    "    [20.13,131.2,1261,0.1034,0.144,0.09791,0.7655,5.203,99.04,23.69,38.25,155,1731,0.1922,0.3215,0.1628],\n",
    "    [16.6,108.3,858.1,0.1023,0.09251,0.05302,0.4564,3.425,48.55,18.98,34.12,126.7,1124,0.3094,0.3403,0.1418],\n",
    "    [20.6,140.1,1265,0.277,0.3514,0.152,0.726,5.772,86.22,25.74,39.42,184.6,1821,0.8681,0.9387,0.265],\n",
    "    [7.76,47.92,181,0.04362,0,0,0.3857,2.548,19.15,9.456,30.37,59.16,268.6,0.06444,0,0]\n",
    "    \n",
    "]"
   ]
  },
  {
   "cell_type": "code",
   "execution_count": null,
   "metadata": {},
   "outputs": [],
   "source": [
    "def test_model():\n",
    "    for data in unseen_input_data:\n",
    "        # change the data into a numpy array\n",
    "        input_data_as_numpy_array = np.asarray(data)\n",
    "        # reshape the numpy array\n",
    "        reshaped_input_data = input_data_as_numpy_array.reshape(1, -1)\n",
    "        # Standardize reshaped data\n",
    "        standardized_data = scaler.transform(reshaped_input_data)\n",
    "        # Predict new values\n",
    "        prediction  = model.predict(standardized_data)\n",
    "        \n",
    "        print(prediction)\n",
    "        \n",
    "        prediction_label = [np.argmax(prediction)]\n",
    "        \n",
    "        print(prediction_label)\n",
    "        \n",
    "        if prediction_label[0]==0:\n",
    "            print('The tumour is malignant')\n",
    "        else:\n",
    "            print('The tumor is benign')"
   ]
  },
  {
   "cell_type": "code",
   "execution_count": null,
   "metadata": {},
   "outputs": [],
   "source": [
    "test_model()"
   ]
  },
  {
   "cell_type": "markdown",
   "metadata": {},
   "source": [
    "# The model is 100% Accurate\n",
    "#### 1 correct\n",
    "#### 1 correct\n",
    "#### 1 correct\n",
    "#### 1 correct\n",
    "#### 1 correct\n",
    "#### 0 correct\n",
    "#### 0 correct\n",
    "#### 0 correct\n",
    "#### 0 correct\n",
    "#### 0 correct\n",
    "#### 0 correct\n",
    "#### 1 correct"
   ]
  }
 ],
 "metadata": {
  "kernelspec": {
   "display_name": "Python 3",
   "language": "python",
   "name": "python3"
  },
  "language_info": {
   "codemirror_mode": {
    "name": "ipython",
    "version": 3
   },
   "file_extension": ".py",
   "mimetype": "text/x-python",
   "name": "python",
   "nbconvert_exporter": "python",
   "pygments_lexer": "ipython3",
   "version": "3.8.3"
  }
 },
 "nbformat": 4,
 "nbformat_minor": 4
}
